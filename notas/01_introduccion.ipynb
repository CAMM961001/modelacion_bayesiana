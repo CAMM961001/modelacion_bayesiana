{
 "cells": [
  {
   "cell_type": "markdown",
   "id": "d3712ece-43f6-4b48-b282-044c4151f1b4",
   "metadata": {},
   "source": [
    "# Introducción\n",
    "\n",
    "Carga de librerías:"
   ]
  },
  {
   "cell_type": "code",
   "execution_count": 1,
   "id": "ad2c3e54-28c9-4f08-900e-ff616c1cd050",
   "metadata": {
    "tags": []
   },
   "outputs": [],
   "source": [
    "import os\n",
    "import scipy\n",
    "import numpy as np\n",
    "import pandas as pd\n",
    "import matplotlib.pyplot as plt"
   ]
  },
  {
   "cell_type": "markdown",
   "id": "6d4ad3e3-826c-40fd-805c-30f2ddb47cdd",
   "metadata": {},
   "source": [
    "Definición de variables globales para las notas:"
   ]
  },
  {
   "cell_type": "code",
   "execution_count": 2,
   "id": "9a35078f-3888-4c54-b337-830ff123b417",
   "metadata": {
    "tags": []
   },
   "outputs": [],
   "source": [
    "__file__ = '01_introduccion.ipynb'\n",
    "ROOT = os.getcwd()\n",
    "PARENT = os.path.dirname(os.path.abspath(__file__))"
   ]
  },
  {
   "cell_type": "markdown",
   "id": "43b6b3fa-89b0-4f63-8227-6c07a4d3695e",
   "metadata": {
    "tags": []
   },
   "source": [
    "## Estimando el valor de $\\pi$\n",
    "\n",
    "Uno de los primeros problemas que se pueden abordar con un enfoque de simulación es el de estimar el valor de $\\pi$. Esto se puede conseguir simulando una circunferencia unitaria inscrita en un cuadrado.\n",
    "\n",
    "Para ilustrarlo, primero se puede definir una función para generar datos:"
   ]
  },
  {
   "cell_type": "code",
   "execution_count": 3,
   "id": "00faabd2-8bad-47f7-9731-5c01ad4935c7",
   "metadata": {
    "tags": []
   },
   "outputs": [],
   "source": [
    "def genera_circulo(n=10):\n",
    "    circulo = {'rad':np.linspace(start=0, stop=2*np.pi, num=n),\n",
    "               'x':None,\n",
    "               'y':None}\n",
    "    circulo['x'] = np.sin(circulo['rad'])\n",
    "    circulo['y'] = np.cos(circulo['rad'])\n",
    "    \n",
    "    return pd.DataFrame(circulo)"
   ]
  },
  {
   "cell_type": "code",
   "execution_count": 4,
   "id": "95330ccc-3e74-4e04-bde1-392789fdb67f",
   "metadata": {
    "tags": []
   },
   "outputs": [
    {
     "data": {
      "text/html": [
       "<div>\n",
       "<style scoped>\n",
       "    .dataframe tbody tr th:only-of-type {\n",
       "        vertical-align: middle;\n",
       "    }\n",
       "\n",
       "    .dataframe tbody tr th {\n",
       "        vertical-align: top;\n",
       "    }\n",
       "\n",
       "    .dataframe thead th {\n",
       "        text-align: right;\n",
       "    }\n",
       "</style>\n",
       "<table border=\"1\" class=\"dataframe\">\n",
       "  <thead>\n",
       "    <tr style=\"text-align: right;\">\n",
       "      <th></th>\n",
       "      <th>rad</th>\n",
       "      <th>x</th>\n",
       "      <th>y</th>\n",
       "    </tr>\n",
       "  </thead>\n",
       "  <tbody>\n",
       "    <tr>\n",
       "      <th>0</th>\n",
       "      <td>0.000000</td>\n",
       "      <td>0.000000e+00</td>\n",
       "      <td>1.000000</td>\n",
       "    </tr>\n",
       "    <tr>\n",
       "      <th>1</th>\n",
       "      <td>0.698132</td>\n",
       "      <td>6.427876e-01</td>\n",
       "      <td>0.766044</td>\n",
       "    </tr>\n",
       "    <tr>\n",
       "      <th>2</th>\n",
       "      <td>1.396263</td>\n",
       "      <td>9.848078e-01</td>\n",
       "      <td>0.173648</td>\n",
       "    </tr>\n",
       "    <tr>\n",
       "      <th>3</th>\n",
       "      <td>2.094395</td>\n",
       "      <td>8.660254e-01</td>\n",
       "      <td>-0.500000</td>\n",
       "    </tr>\n",
       "    <tr>\n",
       "      <th>4</th>\n",
       "      <td>2.792527</td>\n",
       "      <td>3.420201e-01</td>\n",
       "      <td>-0.939693</td>\n",
       "    </tr>\n",
       "    <tr>\n",
       "      <th>5</th>\n",
       "      <td>3.490659</td>\n",
       "      <td>-3.420201e-01</td>\n",
       "      <td>-0.939693</td>\n",
       "    </tr>\n",
       "    <tr>\n",
       "      <th>6</th>\n",
       "      <td>4.188790</td>\n",
       "      <td>-8.660254e-01</td>\n",
       "      <td>-0.500000</td>\n",
       "    </tr>\n",
       "    <tr>\n",
       "      <th>7</th>\n",
       "      <td>4.886922</td>\n",
       "      <td>-9.848078e-01</td>\n",
       "      <td>0.173648</td>\n",
       "    </tr>\n",
       "    <tr>\n",
       "      <th>8</th>\n",
       "      <td>5.585054</td>\n",
       "      <td>-6.427876e-01</td>\n",
       "      <td>0.766044</td>\n",
       "    </tr>\n",
       "    <tr>\n",
       "      <th>9</th>\n",
       "      <td>6.283185</td>\n",
       "      <td>-2.449294e-16</td>\n",
       "      <td>1.000000</td>\n",
       "    </tr>\n",
       "  </tbody>\n",
       "</table>\n",
       "</div>"
      ],
      "text/plain": [
       "        rad             x         y\n",
       "0  0.000000  0.000000e+00  1.000000\n",
       "1  0.698132  6.427876e-01  0.766044\n",
       "2  1.396263  9.848078e-01  0.173648\n",
       "3  2.094395  8.660254e-01 -0.500000\n",
       "4  2.792527  3.420201e-01 -0.939693\n",
       "5  3.490659 -3.420201e-01 -0.939693\n",
       "6  4.188790 -8.660254e-01 -0.500000\n",
       "7  4.886922 -9.848078e-01  0.173648\n",
       "8  5.585054 -6.427876e-01  0.766044\n",
       "9  6.283185 -2.449294e-16  1.000000"
      ]
     },
     "execution_count": 4,
     "metadata": {},
     "output_type": "execute_result"
    }
   ],
   "source": [
    "genera_circulo()"
   ]
  },
  {
   "cell_type": "code",
   "execution_count": null,
   "id": "ec858d55-9545-422b-9d55-26a192b7168e",
   "metadata": {},
   "outputs": [],
   "source": []
  }
 ],
 "metadata": {
  "kernelspec": {
   "display_name": "Python 3 (ipykernel)",
   "language": "python",
   "name": "python3"
  },
  "language_info": {
   "codemirror_mode": {
    "name": "ipython",
    "version": 3
   },
   "file_extension": ".py",
   "mimetype": "text/x-python",
   "name": "python",
   "nbconvert_exporter": "python",
   "pygments_lexer": "ipython3",
   "version": "3.10.6"
  }
 },
 "nbformat": 4,
 "nbformat_minor": 5
}
